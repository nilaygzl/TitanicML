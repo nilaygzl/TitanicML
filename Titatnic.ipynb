{
  "metadata": {
    "kernelspec": {
      "language": "python",
      "display_name": "Python 3",
      "name": "python3"
    },
    "language_info": {
      "name": "python",
      "version": "3.10.13",
      "mimetype": "text/x-python",
      "codemirror_mode": {
        "name": "ipython",
        "version": 3
      },
      "pygments_lexer": "ipython3",
      "nbconvert_exporter": "python",
      "file_extension": ".py"
    },
    "kaggle": {
      "accelerator": "none",
      "dataSources": [
        {
          "sourceId": 3136,
          "databundleVersionId": 26502,
          "sourceType": "competition"
        }
      ],
      "dockerImageVersionId": 30732,
      "isInternetEnabled": false,
      "language": "python",
      "sourceType": "notebook",
      "isGpuEnabled": false
    },
    "colab": {
      "name": "Titatnic",
      "provenance": [],
      "include_colab_link": true
    }
  },
  "nbformat_minor": 0,
  "nbformat": 4,
  "cells": [
    {
      "cell_type": "markdown",
      "metadata": {
        "id": "view-in-github",
        "colab_type": "text"
      },
      "source": [
        "<a href=\"https://colab.research.google.com/github/nilaygzl/TitanicML/blob/main/Titatnic.ipynb\" target=\"_parent\"><img src=\"https://colab.research.google.com/assets/colab-badge.svg\" alt=\"Open In Colab\"/></a>"
      ]
    },
    {
      "source": [
        "\n",
        "# IMPORTANT: RUN THIS CELL IN ORDER TO IMPORT YOUR KAGGLE DATA SOURCES\n",
        "# TO THE CORRECT LOCATION (/kaggle/input) IN YOUR NOTEBOOK,\n",
        "# THEN FEEL FREE TO DELETE THIS CELL.\n",
        "# NOTE: THIS NOTEBOOK ENVIRONMENT DIFFERS FROM KAGGLE'S PYTHON\n",
        "# ENVIRONMENT SO THERE MAY BE MISSING LIBRARIES USED BY YOUR\n",
        "# NOTEBOOK.\n",
        "\n",
        "import os\n",
        "import sys\n",
        "from tempfile import NamedTemporaryFile\n",
        "from urllib.request import urlopen\n",
        "from urllib.parse import unquote, urlparse\n",
        "from urllib.error import HTTPError\n",
        "from zipfile import ZipFile\n",
        "import tarfile\n",
        "import shutil\n",
        "\n",
        "CHUNK_SIZE = 40960\n",
        "DATA_SOURCE_MAPPING = 'titanic:https%3A%2F%2Fstorage.googleapis.com%2Fkaggle-competitions-data%2Fkaggle-v2%2F3136%2F26502%2Fbundle%2Farchive.zip%3FX-Goog-Algorithm%3DGOOG4-RSA-SHA256%26X-Goog-Credential%3Dgcp-kaggle-com%2540kaggle-161607.iam.gserviceaccount.com%252F20240716%252Fauto%252Fstorage%252Fgoog4_request%26X-Goog-Date%3D20240716T131016Z%26X-Goog-Expires%3D259200%26X-Goog-SignedHeaders%3Dhost%26X-Goog-Signature%3Db7f30dc05be126b8036eba82a50df72c449d8f79fb30d0e191e8751ec9d305a613c1a671743b5f5daf0141c6814c8e9d5f0f1be585f30d5a81030654af7caf3bf5c9e2d46ce3f03176f2a46fc66e44f032bc63c267942cab0462c64eff03eaf8d386d26780c040c17161042cbce5d75f61c98bb00b764b059f347e3ad76c2db09c962812619c2de7613c586ae9c5ae4c784169b6adcad26d472d11a557d5bd495d3cd614e12ff97f63e34d2be0814e29b5b35df0feb20f824957d7429e702aa7b4601754a1cd0320a8661130ac0ff338f9cdf89786f638593ada1be78b7e481d86978a1f05e1c105d8b1e1bf40ad5b6010968a33c02901bc5e62aa098edd0c4b'\n",
        "\n",
        "KAGGLE_INPUT_PATH='/kaggle/input'\n",
        "KAGGLE_WORKING_PATH='/kaggle/working'\n",
        "KAGGLE_SYMLINK='kaggle'\n",
        "\n",
        "!umount /kaggle/input/ 2> /dev/null\n",
        "shutil.rmtree('/kaggle/input', ignore_errors=True)\n",
        "os.makedirs(KAGGLE_INPUT_PATH, 0o777, exist_ok=True)\n",
        "os.makedirs(KAGGLE_WORKING_PATH, 0o777, exist_ok=True)\n",
        "\n",
        "try:\n",
        "  os.symlink(KAGGLE_INPUT_PATH, os.path.join(\"..\", 'input'), target_is_directory=True)\n",
        "except FileExistsError:\n",
        "  pass\n",
        "try:\n",
        "  os.symlink(KAGGLE_WORKING_PATH, os.path.join(\"..\", 'working'), target_is_directory=True)\n",
        "except FileExistsError:\n",
        "  pass\n",
        "\n",
        "for data_source_mapping in DATA_SOURCE_MAPPING.split(','):\n",
        "    directory, download_url_encoded = data_source_mapping.split(':')\n",
        "    download_url = unquote(download_url_encoded)\n",
        "    filename = urlparse(download_url).path\n",
        "    destination_path = os.path.join(KAGGLE_INPUT_PATH, directory)\n",
        "    try:\n",
        "        with urlopen(download_url) as fileres, NamedTemporaryFile() as tfile:\n",
        "            total_length = fileres.headers['content-length']\n",
        "            print(f'Downloading {directory}, {total_length} bytes compressed')\n",
        "            dl = 0\n",
        "            data = fileres.read(CHUNK_SIZE)\n",
        "            while len(data) > 0:\n",
        "                dl += len(data)\n",
        "                tfile.write(data)\n",
        "                done = int(50 * dl / int(total_length))\n",
        "                sys.stdout.write(f\"\\r[{'=' * done}{' ' * (50-done)}] {dl} bytes downloaded\")\n",
        "                sys.stdout.flush()\n",
        "                data = fileres.read(CHUNK_SIZE)\n",
        "            if filename.endswith('.zip'):\n",
        "              with ZipFile(tfile) as zfile:\n",
        "                zfile.extractall(destination_path)\n",
        "            else:\n",
        "              with tarfile.open(tfile.name) as tarfile:\n",
        "                tarfile.extractall(destination_path)\n",
        "            print(f'\\nDownloaded and uncompressed: {directory}')\n",
        "    except HTTPError as e:\n",
        "        print(f'Failed to load (likely expired) {download_url} to path {destination_path}')\n",
        "        continue\n",
        "    except OSError as e:\n",
        "        print(f'Failed to load {download_url} to path {destination_path}')\n",
        "        continue\n",
        "\n",
        "print('Data source import complete.')\n"
      ],
      "metadata": {
        "id": "bSLbOtC7qlIM"
      },
      "cell_type": "code",
      "outputs": [],
      "execution_count": null
    },
    {
      "cell_type": "code",
      "source": [
        "# This Python 3 environment comes with many helpful analytics libraries installed\n",
        "# It is defined by the kaggle/python Docker image: https://github.com/kaggle/docker-python\n",
        "# For example, here's several helpful packages to load\n",
        "\n",
        "import numpy as np # linear algebra\n",
        "import pandas as pd # data processing, CSV file I/O (e.g. pd.read_csv)\n",
        "\n",
        "# Input data files are available in the read-only \"../input/\" directory\n",
        "# For example, running this (by clicking run or pressing Shift+Enter) will list all files under the input directory\n",
        "\n",
        "import os\n",
        "for dirname, _, filenames in os.walk('/kaggle/input'):\n",
        "    for filename in filenames:\n",
        "        print(os.path.join(dirname, filename))\n",
        "\n",
        "# You can write up to 20GB to the current directory (/kaggle/working/) that gets preserved as output when you create a version using \"Save & Run All\"\n",
        "# You can also write temporary files to /kaggle/temp/, but they won't be saved outside of the current session"
      ],
      "metadata": {
        "_uuid": "8f2839f25d086af736a60e9eeb907d3b93b6e0e5",
        "_cell_guid": "b1076dfc-b9ad-4769-8c92-a6c4dae69d19",
        "execution": {
          "iopub.status.busy": "2024-06-14T20:57:12.847553Z",
          "iopub.execute_input": "2024-06-14T20:57:12.84798Z",
          "iopub.status.idle": "2024-06-14T20:57:13.388911Z",
          "shell.execute_reply.started": "2024-06-14T20:57:12.847946Z",
          "shell.execute_reply": "2024-06-14T20:57:13.387607Z"
        },
        "trusted": true,
        "id": "qnpqvgV0qlIV"
      },
      "execution_count": null,
      "outputs": []
    },
    {
      "cell_type": "code",
      "source": [
        "#kütüphaneleri yükle\n",
        "import pandas as pd\n",
        "import numpy as np\n",
        "import matplotlib.pyplot as plt\n",
        "import seaborn as sns\n",
        "import warnings\n",
        "warnings.filterwarnings(\"ignore\")"
      ],
      "metadata": {
        "execution": {
          "iopub.status.busy": "2024-06-14T20:57:13.390844Z",
          "iopub.execute_input": "2024-06-14T20:57:13.391417Z",
          "iopub.status.idle": "2024-06-14T20:57:14.200547Z",
          "shell.execute_reply.started": "2024-06-14T20:57:13.391385Z",
          "shell.execute_reply": "2024-06-14T20:57:14.199051Z"
        },
        "trusted": true,
        "id": "pU0EPtPjqlIX"
      },
      "execution_count": null,
      "outputs": []
    },
    {
      "cell_type": "code",
      "source": [
        "#Veri dosyasını yükle\n",
        "df_train=pd.read_csv('/kaggle/input/titanic/train.csv')\n",
        "df_test=pd.read_csv('/kaggle/input/titanic/test.csv')"
      ],
      "metadata": {
        "execution": {
          "iopub.status.busy": "2024-06-14T20:57:14.202139Z",
          "iopub.execute_input": "2024-06-14T20:57:14.202533Z",
          "iopub.status.idle": "2024-06-14T20:57:14.235449Z",
          "shell.execute_reply.started": "2024-06-14T20:57:14.2025Z",
          "shell.execute_reply": "2024-06-14T20:57:14.234197Z"
        },
        "trusted": true,
        "id": "1XZTciG_qlIZ"
      },
      "execution_count": null,
      "outputs": []
    },
    {
      "cell_type": "code",
      "source": [
        "df_train.head()"
      ],
      "metadata": {
        "execution": {
          "iopub.status.busy": "2024-06-14T20:57:14.238466Z",
          "iopub.execute_input": "2024-06-14T20:57:14.238831Z",
          "iopub.status.idle": "2024-06-14T20:57:14.275482Z",
          "shell.execute_reply.started": "2024-06-14T20:57:14.238801Z",
          "shell.execute_reply": "2024-06-14T20:57:14.274115Z"
        },
        "trusted": true,
        "id": "N8JFv_n0qlIb"
      },
      "execution_count": null,
      "outputs": []
    },
    {
      "cell_type": "code",
      "source": [
        "df_test.head()"
      ],
      "metadata": {
        "execution": {
          "iopub.status.busy": "2024-06-14T20:57:14.276959Z",
          "iopub.execute_input": "2024-06-14T20:57:14.27743Z",
          "iopub.status.idle": "2024-06-14T20:57:14.315347Z",
          "shell.execute_reply.started": "2024-06-14T20:57:14.277395Z",
          "shell.execute_reply": "2024-06-14T20:57:14.313979Z"
        },
        "trusted": true,
        "id": "EIELc7ufqlIc"
      },
      "execution_count": null,
      "outputs": []
    },
    {
      "cell_type": "code",
      "source": [
        "df_train.info()"
      ],
      "metadata": {
        "execution": {
          "iopub.status.busy": "2024-06-14T20:57:14.316835Z",
          "iopub.execute_input": "2024-06-14T20:57:14.317276Z",
          "iopub.status.idle": "2024-06-14T20:57:14.348075Z",
          "shell.execute_reply.started": "2024-06-14T20:57:14.317239Z",
          "shell.execute_reply": "2024-06-14T20:57:14.34674Z"
        },
        "trusted": true,
        "id": "uygAGm_HqlId"
      },
      "execution_count": null,
      "outputs": []
    },
    {
      "cell_type": "code",
      "source": [
        "df_train.isnull().sum()"
      ],
      "metadata": {
        "execution": {
          "iopub.status.busy": "2024-06-14T20:57:14.349526Z",
          "iopub.execute_input": "2024-06-14T20:57:14.349947Z",
          "iopub.status.idle": "2024-06-14T20:57:14.365064Z",
          "shell.execute_reply.started": "2024-06-14T20:57:14.349905Z",
          "shell.execute_reply": "2024-06-14T20:57:14.36169Z"
        },
        "trusted": true,
        "id": "1EItk2YfqlIe"
      },
      "execution_count": null,
      "outputs": []
    },
    {
      "cell_type": "code",
      "source": [
        "df_train.describe().T"
      ],
      "metadata": {
        "execution": {
          "iopub.status.busy": "2024-06-14T20:57:14.367547Z",
          "iopub.execute_input": "2024-06-14T20:57:14.368455Z",
          "iopub.status.idle": "2024-06-14T20:57:14.410437Z",
          "shell.execute_reply.started": "2024-06-14T20:57:14.368401Z",
          "shell.execute_reply": "2024-06-14T20:57:14.40897Z"
        },
        "trusted": true,
        "id": "QJU-xXZTqlIg"
      },
      "execution_count": null,
      "outputs": []
    },
    {
      "cell_type": "code",
      "source": [
        "df_train.describe()"
      ],
      "metadata": {
        "execution": {
          "iopub.status.busy": "2024-06-14T20:57:14.412126Z",
          "iopub.execute_input": "2024-06-14T20:57:14.412581Z",
          "iopub.status.idle": "2024-06-14T20:57:14.458289Z",
          "shell.execute_reply.started": "2024-06-14T20:57:14.412544Z",
          "shell.execute_reply": "2024-06-14T20:57:14.457008Z"
        },
        "trusted": true,
        "id": "MlvUUbGrqlIi"
      },
      "execution_count": null,
      "outputs": []
    },
    {
      "cell_type": "code",
      "source": [
        "#veri ön işleme işlemleri yapılacağı için test ve train birleştirilir\n",
        "df=pd.concat([df_train,df_test],ignore_index=True)\n",
        "df"
      ],
      "metadata": {
        "execution": {
          "iopub.status.busy": "2024-06-14T20:57:14.462933Z",
          "iopub.execute_input": "2024-06-14T20:57:14.463426Z",
          "iopub.status.idle": "2024-06-14T20:57:14.502766Z",
          "shell.execute_reply.started": "2024-06-14T20:57:14.463386Z",
          "shell.execute_reply": "2024-06-14T20:57:14.501471Z"
        },
        "trusted": true,
        "id": "ViOm7pTZqlIj"
      },
      "execution_count": null,
      "outputs": []
    },
    {
      "cell_type": "code",
      "source": [
        "df.head()"
      ],
      "metadata": {
        "execution": {
          "iopub.status.busy": "2024-06-14T20:57:14.507803Z",
          "iopub.execute_input": "2024-06-14T20:57:14.508324Z",
          "iopub.status.idle": "2024-06-14T20:57:14.531624Z",
          "shell.execute_reply.started": "2024-06-14T20:57:14.508275Z",
          "shell.execute_reply": "2024-06-14T20:57:14.530147Z"
        },
        "trusted": true,
        "id": "daVSQQnNqlIk"
      },
      "execution_count": null,
      "outputs": []
    },
    {
      "cell_type": "code",
      "source": [
        "df.info()"
      ],
      "metadata": {
        "execution": {
          "iopub.status.busy": "2024-06-14T20:57:14.533836Z",
          "iopub.execute_input": "2024-06-14T20:57:14.534216Z",
          "iopub.status.idle": "2024-06-14T20:57:14.549723Z",
          "shell.execute_reply.started": "2024-06-14T20:57:14.534186Z",
          "shell.execute_reply": "2024-06-14T20:57:14.548547Z"
        },
        "trusted": true,
        "id": "JoMUCy7OqlIl"
      },
      "execution_count": null,
      "outputs": []
    },
    {
      "cell_type": "code",
      "source": [
        "#satır sütun sayısı\n",
        "df_train.shape,df_test.shape,df.shape #ilk 891 i train, son 418 i test"
      ],
      "metadata": {
        "execution": {
          "iopub.status.busy": "2024-06-14T20:57:14.552334Z",
          "iopub.execute_input": "2024-06-14T20:57:14.552759Z",
          "iopub.status.idle": "2024-06-14T20:57:14.56546Z",
          "shell.execute_reply.started": "2024-06-14T20:57:14.552724Z",
          "shell.execute_reply": "2024-06-14T20:57:14.564109Z"
        },
        "trusted": true,
        "id": "XiKxDKonqlIl"
      },
      "execution_count": null,
      "outputs": []
    },
    {
      "cell_type": "code",
      "source": [
        "df.describe()"
      ],
      "metadata": {
        "execution": {
          "iopub.status.busy": "2024-06-14T20:57:14.567016Z",
          "iopub.execute_input": "2024-06-14T20:57:14.567433Z",
          "iopub.status.idle": "2024-06-14T20:57:14.606733Z",
          "shell.execute_reply.started": "2024-06-14T20:57:14.5674Z",
          "shell.execute_reply": "2024-06-14T20:57:14.605394Z"
        },
        "trusted": true,
        "id": "-wLjIXZOqlIm"
      },
      "execution_count": null,
      "outputs": []
    },
    {
      "cell_type": "code",
      "source": [
        "df.isnull().sum()"
      ],
      "metadata": {
        "execution": {
          "iopub.status.busy": "2024-06-14T20:57:14.608158Z",
          "iopub.execute_input": "2024-06-14T20:57:14.608503Z",
          "iopub.status.idle": "2024-06-14T20:57:14.620472Z",
          "shell.execute_reply.started": "2024-06-14T20:57:14.608476Z",
          "shell.execute_reply": "2024-06-14T20:57:14.61899Z"
        },
        "trusted": true,
        "id": "PkrAlRNOqlIn"
      },
      "execution_count": null,
      "outputs": []
    },
    {
      "cell_type": "code",
      "source": [
        "#numeric özellikler\n",
        "numeric_columns=df.select_dtypes(include=['number'])\n",
        "numeric_columns"
      ],
      "metadata": {
        "execution": {
          "iopub.status.busy": "2024-06-14T20:58:12.361301Z",
          "iopub.execute_input": "2024-06-14T20:58:12.362731Z",
          "iopub.status.idle": "2024-06-14T20:58:12.384703Z",
          "shell.execute_reply.started": "2024-06-14T20:58:12.362675Z",
          "shell.execute_reply": "2024-06-14T20:58:12.383485Z"
        },
        "trusted": true,
        "id": "xaFW5jaIqlIn"
      },
      "execution_count": null,
      "outputs": []
    },
    {
      "cell_type": "code",
      "source": [
        "# Her çalışmada anlamlı çıkacak diye bir kural\n",
        "numeric_columns.corr()"
      ],
      "metadata": {
        "execution": {
          "iopub.status.busy": "2024-06-14T20:58:22.9473Z",
          "iopub.execute_input": "2024-06-14T20:58:22.947706Z",
          "iopub.status.idle": "2024-06-14T20:58:22.968452Z",
          "shell.execute_reply.started": "2024-06-14T20:58:22.947675Z",
          "shell.execute_reply": "2024-06-14T20:58:22.967107Z"
        },
        "trusted": true,
        "id": "57p7cTqdqlIo"
      },
      "execution_count": null,
      "outputs": []
    },
    {
      "cell_type": "code",
      "source": [
        "df.isnull().sum()"
      ],
      "metadata": {
        "execution": {
          "iopub.status.busy": "2024-06-14T20:59:32.951693Z",
          "iopub.execute_input": "2024-06-14T20:59:32.952112Z",
          "iopub.status.idle": "2024-06-14T20:59:32.963608Z",
          "shell.execute_reply.started": "2024-06-14T20:59:32.95207Z",
          "shell.execute_reply": "2024-06-14T20:59:32.962397Z"
        },
        "trusted": true,
        "id": "R5pFDBe-qlIo"
      },
      "execution_count": null,
      "outputs": []
    },
    {
      "cell_type": "code",
      "source": [
        "df['Embarked'].value_counts()"
      ],
      "metadata": {
        "execution": {
          "iopub.status.busy": "2024-06-14T20:59:47.288914Z",
          "iopub.execute_input": "2024-06-14T20:59:47.289373Z",
          "iopub.status.idle": "2024-06-14T20:59:47.298788Z",
          "shell.execute_reply.started": "2024-06-14T20:59:47.289339Z",
          "shell.execute_reply": "2024-06-14T20:59:47.297573Z"
        },
        "trusted": true,
        "id": "REC2ufprqlIp"
      },
      "execution_count": null,
      "outputs": []
    },
    {
      "cell_type": "code",
      "source": [
        "df[df['Embarked'].isnull()]"
      ],
      "metadata": {
        "execution": {
          "iopub.status.busy": "2024-06-14T21:00:10.900467Z",
          "iopub.execute_input": "2024-06-14T21:00:10.90087Z",
          "iopub.status.idle": "2024-06-14T21:00:10.919935Z",
          "shell.execute_reply.started": "2024-06-14T21:00:10.900838Z",
          "shell.execute_reply": "2024-06-14T21:00:10.918621Z"
        },
        "trusted": true,
        "id": "lqp7PGaDqlIq"
      },
      "execution_count": null,
      "outputs": []
    },
    {
      "cell_type": "code",
      "source": [
        "#Embarked ekiks veiryi doldur\n",
        "#en çok tekrar eden değeri kullan\n",
        "df['Embarked'].fillna(df['Embarked'].mode()[0],inplace=True) #data['Embarked'].mode()[0] birden fazla mod olabilir o yüzden ilkini al\n",
        "df['Embarked'].isnull().sum()"
      ],
      "metadata": {
        "execution": {
          "iopub.status.busy": "2024-06-14T21:00:43.630451Z",
          "iopub.execute_input": "2024-06-14T21:00:43.630963Z",
          "iopub.status.idle": "2024-06-14T21:00:43.648632Z",
          "shell.execute_reply.started": "2024-06-14T21:00:43.630924Z",
          "shell.execute_reply": "2024-06-14T21:00:43.647288Z"
        },
        "trusted": true,
        "id": "7BJh7g2JqlIr"
      },
      "execution_count": null,
      "outputs": []
    },
    {
      "cell_type": "code",
      "source": [
        "df['Age'].value_counts()"
      ],
      "metadata": {
        "execution": {
          "iopub.status.busy": "2024-06-14T21:01:13.716504Z",
          "iopub.execute_input": "2024-06-14T21:01:13.717513Z",
          "iopub.status.idle": "2024-06-14T21:01:13.729307Z",
          "shell.execute_reply.started": "2024-06-14T21:01:13.717472Z",
          "shell.execute_reply": "2024-06-14T21:01:13.72794Z"
        },
        "trusted": true,
        "id": "4q11AxJMqlIr"
      },
      "execution_count": null,
      "outputs": []
    },
    {
      "cell_type": "code",
      "source": [
        "df['Age'].isnull().sum()"
      ],
      "metadata": {
        "execution": {
          "iopub.status.busy": "2024-06-14T21:01:24.352281Z",
          "iopub.execute_input": "2024-06-14T21:01:24.352685Z",
          "iopub.status.idle": "2024-06-14T21:01:24.361513Z",
          "shell.execute_reply.started": "2024-06-14T21:01:24.352656Z",
          "shell.execute_reply": "2024-06-14T21:01:24.359993Z"
        },
        "trusted": true,
        "id": "zbcSTwaPqlIs"
      },
      "execution_count": null,
      "outputs": []
    },
    {
      "cell_type": "code",
      "source": [
        "#Unvanları alalım\n",
        "df['Title']=df['Name'].str.extract('([A-Za-z]+)\\.')"
      ],
      "metadata": {
        "execution": {
          "iopub.status.busy": "2024-06-14T21:01:47.281074Z",
          "iopub.execute_input": "2024-06-14T21:01:47.281503Z",
          "iopub.status.idle": "2024-06-14T21:01:47.293853Z",
          "shell.execute_reply.started": "2024-06-14T21:01:47.281468Z",
          "shell.execute_reply": "2024-06-14T21:01:47.292593Z"
        },
        "trusted": true,
        "id": "clsD3sMrqlIs"
      },
      "execution_count": null,
      "outputs": []
    },
    {
      "cell_type": "code",
      "source": [
        "#hangi unvanlar var\n",
        "df['Title'].value_counts()"
      ],
      "metadata": {
        "execution": {
          "iopub.status.busy": "2024-06-14T21:02:11.840829Z",
          "iopub.execute_input": "2024-06-14T21:02:11.841718Z",
          "iopub.status.idle": "2024-06-14T21:02:11.85121Z",
          "shell.execute_reply.started": "2024-06-14T21:02:11.841681Z",
          "shell.execute_reply": "2024-06-14T21:02:11.850076Z"
        },
        "trusted": true,
        "id": "OyKDJLPpqlIt"
      },
      "execution_count": null,
      "outputs": []
    },
    {
      "cell_type": "code",
      "source": [
        "#Fransızca veya diğer dillerdeki ünvanları uygn şekilde çevirdik\n",
        "df['Title']=df['Title'].replace(['Ms','Mlle'],'Miss')\n",
        "df['Title']=df['Title'].replace(['Mme','Countess','Lady','Dona'],'Mrs')\n",
        "df['Title']=df['Title'].replace(['Capt','Col','Don','Dr','Major','Rev','Sir','Jonkheer'],'Mr')"
      ],
      "metadata": {
        "execution": {
          "iopub.status.busy": "2024-06-14T21:02:42.708729Z",
          "iopub.execute_input": "2024-06-14T21:02:42.709163Z",
          "iopub.status.idle": "2024-06-14T21:02:42.725985Z",
          "shell.execute_reply.started": "2024-06-14T21:02:42.709129Z",
          "shell.execute_reply": "2024-06-14T21:02:42.724721Z"
        },
        "trusted": true,
        "id": "_6fST3NjqlIu"
      },
      "execution_count": null,
      "outputs": []
    },
    {
      "cell_type": "code",
      "source": [
        "df['Title'].value_counts()"
      ],
      "metadata": {
        "execution": {
          "iopub.status.busy": "2024-06-14T21:03:01.138376Z",
          "iopub.execute_input": "2024-06-14T21:03:01.138777Z",
          "iopub.status.idle": "2024-06-14T21:03:01.148942Z",
          "shell.execute_reply.started": "2024-06-14T21:03:01.138745Z",
          "shell.execute_reply": "2024-06-14T21:03:01.147581Z"
        },
        "trusted": true,
        "id": "TC9YVC0YqlIu"
      },
      "execution_count": null,
      "outputs": []
    },
    {
      "cell_type": "code",
      "source": [
        "#Yaş değerlerini doldur\n",
        "df['Age'].fillna(df.groupby('Title')['Age'].transform('mean'),inplace=True) # unvanların yaş ortalamalarına göre eksik yaşları doldur\n",
        "df['Age'].isnull().sum()"
      ],
      "metadata": {
        "execution": {
          "iopub.status.busy": "2024-06-14T21:03:27.247592Z",
          "iopub.execute_input": "2024-06-14T21:03:27.250345Z",
          "iopub.status.idle": "2024-06-14T21:03:27.280246Z",
          "shell.execute_reply.started": "2024-06-14T21:03:27.250241Z",
          "shell.execute_reply": "2024-06-14T21:03:27.276462Z"
        },
        "trusted": true,
        "id": "9E3HGQTdqlIv"
      },
      "execution_count": null,
      "outputs": []
    },
    {
      "cell_type": "code",
      "source": [
        "df.isnull().sum()"
      ],
      "metadata": {
        "execution": {
          "iopub.status.busy": "2024-06-14T21:03:40.249504Z",
          "iopub.execute_input": "2024-06-14T21:03:40.250105Z",
          "iopub.status.idle": "2024-06-14T21:03:40.27811Z",
          "shell.execute_reply.started": "2024-06-14T21:03:40.250059Z",
          "shell.execute_reply": "2024-06-14T21:03:40.275597Z"
        },
        "trusted": true,
        "id": "-rg5PVeoqlIw"
      },
      "execution_count": null,
      "outputs": []
    },
    {
      "cell_type": "code",
      "source": [
        "df[df['Fare'].isnull()]"
      ],
      "metadata": {
        "execution": {
          "iopub.status.busy": "2024-06-14T21:03:56.976269Z",
          "iopub.execute_input": "2024-06-14T21:03:56.977006Z",
          "iopub.status.idle": "2024-06-14T21:03:57.022948Z",
          "shell.execute_reply.started": "2024-06-14T21:03:56.976961Z",
          "shell.execute_reply": "2024-06-14T21:03:57.019546Z"
        },
        "trusted": true,
        "id": "IoglRuowqlIw"
      },
      "execution_count": null,
      "outputs": []
    },
    {
      "cell_type": "code",
      "source": [
        "df['Fare'].describe()"
      ],
      "metadata": {
        "execution": {
          "iopub.status.busy": "2024-06-14T21:04:08.564267Z",
          "iopub.execute_input": "2024-06-14T21:04:08.564704Z",
          "iopub.status.idle": "2024-06-14T21:04:08.594211Z",
          "shell.execute_reply.started": "2024-06-14T21:04:08.564669Z",
          "shell.execute_reply": "2024-06-14T21:04:08.58939Z"
        },
        "trusted": true,
        "id": "GcaQJTEyqlIy"
      },
      "execution_count": null,
      "outputs": []
    },
    {
      "cell_type": "code",
      "source": [
        "df['Fare'].median()"
      ],
      "metadata": {
        "execution": {
          "iopub.status.busy": "2024-06-14T21:04:21.55662Z",
          "iopub.execute_input": "2024-06-14T21:04:21.557199Z",
          "iopub.status.idle": "2024-06-14T21:04:21.57528Z",
          "shell.execute_reply.started": "2024-06-14T21:04:21.557149Z",
          "shell.execute_reply": "2024-06-14T21:04:21.571408Z"
        },
        "trusted": true,
        "id": "i--3psZLqlIz"
      },
      "execution_count": null,
      "outputs": []
    },
    {
      "cell_type": "code",
      "source": [
        "df['Fare'] = df.groupby(['Pclass', 'Embarked'])['Fare'].transform(lambda x: x.fillna(x.median()))\n",
        "df['Fare'].isnull().sum()"
      ],
      "metadata": {
        "execution": {
          "iopub.status.busy": "2024-06-14T21:04:42.329972Z",
          "iopub.execute_input": "2024-06-14T21:04:42.330521Z",
          "iopub.status.idle": "2024-06-14T21:04:42.355975Z",
          "shell.execute_reply.started": "2024-06-14T21:04:42.330482Z",
          "shell.execute_reply": "2024-06-14T21:04:42.35399Z"
        },
        "trusted": true,
        "id": "VnORAno-qlI0"
      },
      "execution_count": null,
      "outputs": []
    },
    {
      "cell_type": "code",
      "source": [
        "df.isnull().sum()"
      ],
      "metadata": {
        "execution": {
          "iopub.status.busy": "2024-06-14T21:04:53.663438Z",
          "iopub.execute_input": "2024-06-14T21:04:53.663839Z",
          "iopub.status.idle": "2024-06-14T21:04:53.676479Z",
          "shell.execute_reply.started": "2024-06-14T21:04:53.663807Z",
          "shell.execute_reply": "2024-06-14T21:04:53.674876Z"
        },
        "trusted": true,
        "id": "3pl7cxbVqlI1"
      },
      "execution_count": null,
      "outputs": []
    },
    {
      "cell_type": "code",
      "source": [
        "df = df.drop(['Cabin'],axis=1)"
      ],
      "metadata": {
        "execution": {
          "iopub.status.busy": "2024-06-14T21:07:14.623251Z",
          "iopub.execute_input": "2024-06-14T21:07:14.623699Z",
          "iopub.status.idle": "2024-06-14T21:07:14.631572Z",
          "shell.execute_reply.started": "2024-06-14T21:07:14.623668Z",
          "shell.execute_reply": "2024-06-14T21:07:14.630116Z"
        },
        "trusted": true,
        "id": "5p2cEicfqlI2"
      },
      "execution_count": null,
      "outputs": []
    },
    {
      "cell_type": "code",
      "source": [
        "df.isnull().sum()"
      ],
      "metadata": {
        "execution": {
          "iopub.status.busy": "2024-06-14T21:07:28.755535Z",
          "iopub.execute_input": "2024-06-14T21:07:28.756127Z",
          "iopub.status.idle": "2024-06-14T21:07:28.772362Z",
          "shell.execute_reply.started": "2024-06-14T21:07:28.75608Z",
          "shell.execute_reply": "2024-06-14T21:07:28.770799Z"
        },
        "trusted": true,
        "id": "0zZFVJ-xqlI2"
      },
      "execution_count": null,
      "outputs": []
    },
    {
      "cell_type": "code",
      "source": [
        "df.info()"
      ],
      "metadata": {
        "execution": {
          "iopub.status.busy": "2024-06-14T21:07:39.47349Z",
          "iopub.execute_input": "2024-06-14T21:07:39.473875Z",
          "iopub.status.idle": "2024-06-14T21:07:39.488997Z",
          "shell.execute_reply.started": "2024-06-14T21:07:39.473847Z",
          "shell.execute_reply": "2024-06-14T21:07:39.487744Z"
        },
        "trusted": true,
        "id": "DecKEc8QqlI3"
      },
      "execution_count": null,
      "outputs": []
    },
    {
      "cell_type": "code",
      "source": [
        "# \"Pclass\" sütununu kategorik veri türüne dönüştürme\n",
        "df['Pclass'] = df['Pclass'].astype('category')\n",
        "\n",
        "# Dönüşümün başarılı olup olmadığını kontrol etme\n",
        "print(df['Pclass'].dtype)"
      ],
      "metadata": {
        "execution": {
          "iopub.status.busy": "2024-06-14T21:08:21.319603Z",
          "iopub.execute_input": "2024-06-14T21:08:21.320052Z",
          "iopub.status.idle": "2024-06-14T21:08:21.328543Z",
          "shell.execute_reply.started": "2024-06-14T21:08:21.320001Z",
          "shell.execute_reply": "2024-06-14T21:08:21.327175Z"
        },
        "trusted": true,
        "id": "2NsqcQqVqlI3"
      },
      "execution_count": null,
      "outputs": []
    },
    {
      "cell_type": "code",
      "source": [
        "df.info()"
      ],
      "metadata": {
        "execution": {
          "iopub.status.busy": "2024-06-14T21:08:34.649573Z",
          "iopub.execute_input": "2024-06-14T21:08:34.650549Z",
          "iopub.status.idle": "2024-06-14T21:08:34.668822Z",
          "shell.execute_reply.started": "2024-06-14T21:08:34.650502Z",
          "shell.execute_reply": "2024-06-14T21:08:34.667578Z"
        },
        "trusted": true,
        "id": "ybr3hhGMqlJG"
      },
      "execution_count": null,
      "outputs": []
    },
    {
      "cell_type": "code",
      "source": [
        "df['Sex'].value_counts()"
      ],
      "metadata": {
        "execution": {
          "iopub.status.busy": "2024-06-14T21:08:49.261546Z",
          "iopub.execute_input": "2024-06-14T21:08:49.26193Z",
          "iopub.status.idle": "2024-06-14T21:08:49.271853Z",
          "shell.execute_reply.started": "2024-06-14T21:08:49.261901Z",
          "shell.execute_reply": "2024-06-14T21:08:49.270581Z"
        },
        "trusted": true,
        "id": "qjNG5IYiqlJG"
      },
      "execution_count": null,
      "outputs": []
    },
    {
      "cell_type": "code",
      "source": [
        "df['Pclass'].value_counts()"
      ],
      "metadata": {
        "execution": {
          "iopub.status.busy": "2024-06-14T21:09:02.319251Z",
          "iopub.execute_input": "2024-06-14T21:09:02.319667Z",
          "iopub.status.idle": "2024-06-14T21:09:02.331216Z",
          "shell.execute_reply.started": "2024-06-14T21:09:02.319636Z",
          "shell.execute_reply": "2024-06-14T21:09:02.329825Z"
        },
        "trusted": true,
        "id": "cPWVscaEqlJH"
      },
      "execution_count": null,
      "outputs": []
    },
    {
      "cell_type": "code",
      "source": [
        "# Pclass sütununu One-Hot encoding yapma, 2 sütunla temsil etme\n",
        "pclass_one_hot = pd.get_dummies(df['Pclass'], prefix='Pclass', drop_first=True)\n",
        "\n",
        "# Oluşan One-Hot encoding verilerini orijinal veri setine eklemek\n",
        "df = pd.concat([df, pclass_one_hot], axis=1)"
      ],
      "metadata": {
        "execution": {
          "iopub.status.busy": "2024-06-14T21:09:31.76489Z",
          "iopub.execute_input": "2024-06-14T21:09:31.76545Z",
          "iopub.status.idle": "2024-06-14T21:09:31.777129Z",
          "shell.execute_reply.started": "2024-06-14T21:09:31.765412Z",
          "shell.execute_reply": "2024-06-14T21:09:31.775699Z"
        },
        "trusted": true,
        "id": "1zNFP4JLqlJH"
      },
      "execution_count": null,
      "outputs": []
    },
    {
      "cell_type": "code",
      "source": [
        "# Sex sütununu One-Hot encoding yapma, sadece 'male' olanlar için 1 yapma\n",
        "sex_one_hot = pd.get_dummies(df['Sex'], prefix='Sex', drop_first=True)\n",
        "\n",
        "# Oluşan One-Hot encoding verilerini orijinal veri setine eklemek\n",
        "df = pd.concat([df, sex_one_hot], axis=1)"
      ],
      "metadata": {
        "execution": {
          "iopub.status.busy": "2024-06-14T21:09:57.860705Z",
          "iopub.execute_input": "2024-06-14T21:09:57.861267Z",
          "iopub.status.idle": "2024-06-14T21:09:57.871611Z",
          "shell.execute_reply.started": "2024-06-14T21:09:57.861225Z",
          "shell.execute_reply": "2024-06-14T21:09:57.870257Z"
        },
        "trusted": true,
        "id": "Tpq35H5kqlJI"
      },
      "execution_count": null,
      "outputs": []
    },
    {
      "cell_type": "code",
      "source": [
        "# Embarked sütununu One-Hot encoding yapma, 2 sütunla temsil etme\n",
        "Embarked_one_hot = pd.get_dummies(df['Embarked'], prefix='Embarked', drop_first=True)\n",
        "\n",
        "# Oluşan One-Hot encoding verilerini orijinal veri setine eklemek\n",
        "df = pd.concat([df, Embarked_one_hot], axis=1)"
      ],
      "metadata": {
        "execution": {
          "iopub.status.busy": "2024-06-14T21:10:20.965992Z",
          "iopub.execute_input": "2024-06-14T21:10:20.966556Z",
          "iopub.status.idle": "2024-06-14T21:10:20.979657Z",
          "shell.execute_reply.started": "2024-06-14T21:10:20.966511Z",
          "shell.execute_reply": "2024-06-14T21:10:20.978218Z"
        },
        "trusted": true,
        "id": "XpMV40--qlJI"
      },
      "execution_count": null,
      "outputs": []
    },
    {
      "cell_type": "code",
      "source": [
        "# Title sütununu One-Hot encoding yapma, 2 sütunla temsil etme\n",
        "Title_one_hot = pd.get_dummies(df['Title'], prefix='Title')\n",
        "\n",
        "# Oluşan One-Hot encoding verilerini orijinal veri setine eklemek\n",
        "df = pd.concat([df, Title_one_hot], axis=1)"
      ],
      "metadata": {
        "execution": {
          "iopub.status.busy": "2024-06-14T21:11:17.274679Z",
          "iopub.execute_input": "2024-06-14T21:11:17.275129Z",
          "iopub.status.idle": "2024-06-14T21:11:17.284971Z",
          "shell.execute_reply.started": "2024-06-14T21:11:17.275095Z",
          "shell.execute_reply": "2024-06-14T21:11:17.283404Z"
        },
        "trusted": true,
        "id": "OgjdJ34hqlJJ"
      },
      "execution_count": null,
      "outputs": []
    },
    {
      "cell_type": "code",
      "source": [
        "df.info()"
      ],
      "metadata": {
        "execution": {
          "iopub.status.busy": "2024-06-14T21:11:22.568627Z",
          "iopub.execute_input": "2024-06-14T21:11:22.56917Z",
          "iopub.status.idle": "2024-06-14T21:11:22.5876Z",
          "shell.execute_reply.started": "2024-06-14T21:11:22.56913Z",
          "shell.execute_reply": "2024-06-14T21:11:22.586186Z"
        },
        "trusted": true,
        "id": "VJoMXM_0qlJJ"
      },
      "execution_count": null,
      "outputs": []
    },
    {
      "cell_type": "code",
      "source": [
        "data_encoded = df.copy()"
      ],
      "metadata": {
        "execution": {
          "iopub.status.busy": "2024-06-14T21:11:44.466062Z",
          "iopub.execute_input": "2024-06-14T21:11:44.466548Z",
          "iopub.status.idle": "2024-06-14T21:11:44.473581Z",
          "shell.execute_reply.started": "2024-06-14T21:11:44.466514Z",
          "shell.execute_reply": "2024-06-14T21:11:44.471822Z"
        },
        "trusted": true,
        "id": "v2jrA6ZTqlJN"
      },
      "execution_count": null,
      "outputs": []
    },
    {
      "cell_type": "code",
      "source": [
        "columns_to_drop = ['PassengerId', 'Pclass', 'Name', 'Sex', 'Ticket', 'Embarked', 'Title']\n",
        "data_encoded.drop(columns=columns_to_drop, inplace=True, errors='ignore')"
      ],
      "metadata": {
        "execution": {
          "iopub.status.busy": "2024-06-14T21:12:01.886002Z",
          "iopub.execute_input": "2024-06-14T21:12:01.886453Z",
          "iopub.status.idle": "2024-06-14T21:12:01.894255Z",
          "shell.execute_reply.started": "2024-06-14T21:12:01.886417Z",
          "shell.execute_reply": "2024-06-14T21:12:01.892698Z"
        },
        "trusted": true,
        "id": "P8rpsOojqlJO"
      },
      "execution_count": null,
      "outputs": []
    },
    {
      "cell_type": "code",
      "source": [
        "data_encoded.info()"
      ],
      "metadata": {
        "execution": {
          "iopub.status.busy": "2024-06-14T21:12:11.598415Z",
          "iopub.execute_input": "2024-06-14T21:12:11.598831Z",
          "iopub.status.idle": "2024-06-14T21:12:11.613617Z",
          "shell.execute_reply.started": "2024-06-14T21:12:11.598797Z",
          "shell.execute_reply": "2024-06-14T21:12:11.612085Z"
        },
        "trusted": true,
        "id": "5G9TcylkqlJO"
      },
      "execution_count": null,
      "outputs": []
    },
    {
      "cell_type": "code",
      "source": [
        "data_encoded = data_encoded.loc[:, ~data_encoded.columns.duplicated()]\n",
        "data_encoded.info()"
      ],
      "metadata": {
        "execution": {
          "iopub.status.busy": "2024-06-14T21:12:23.8505Z",
          "iopub.execute_input": "2024-06-14T21:12:23.850879Z",
          "iopub.status.idle": "2024-06-14T21:12:23.86567Z",
          "shell.execute_reply.started": "2024-06-14T21:12:23.85085Z",
          "shell.execute_reply": "2024-06-14T21:12:23.864325Z"
        },
        "trusted": true,
        "id": "ASIbPTnLqlJP"
      },
      "execution_count": null,
      "outputs": []
    },
    {
      "cell_type": "code",
      "source": [
        "# Korelasyon matrisini oluşturma\n",
        "correlation_matrix = data_encoded.corr()\n",
        "\n",
        "# Heatmap çizdirme\n",
        "plt.figure(figsize=(12, 10))\n",
        "sns.heatmap(correlation_matrix, annot=True, cmap='coolwarm', fmt=\".2f\", annot_kws={\"size\": 10})\n",
        "plt.title('Correlation Heatmap of Titanic Dataset')\n",
        "plt.show()"
      ],
      "metadata": {
        "execution": {
          "iopub.status.busy": "2024-06-14T21:12:40.908388Z",
          "iopub.execute_input": "2024-06-14T21:12:40.908831Z",
          "iopub.status.idle": "2024-06-14T21:12:41.920747Z",
          "shell.execute_reply.started": "2024-06-14T21:12:40.908796Z",
          "shell.execute_reply": "2024-06-14T21:12:41.919498Z"
        },
        "trusted": true,
        "id": "Ygve2u7UqlJQ"
      },
      "execution_count": null,
      "outputs": []
    },
    {
      "cell_type": "code",
      "source": [
        "# Fare, Parch, SibSp, Age sütunlarından polinomlar oluşturma\n",
        "for feature in ['Fare', 'Age']:\n",
        "    for degree in [2, 3]:  # Polinom derecesi 2 ve 3 olarak örnek verilmiştir\n",
        "        new_column_name = f'{feature}_poly_{degree}'\n",
        "        data_encoded[new_column_name] = np.power(data_encoded[feature], degree)\n",
        "\n",
        "# İlişkisel sütunlar oluşturma (örnek olarak Fare ve Age arasındaki etkileşim)\n",
        "data_encoded['Fare_Age_interaction'] = data_encoded['Fare'] * data_encoded['Age']\n",
        "data_encoded['SibSp_Parch_interaction'] = data_encoded['SibSp'] * data_encoded['Parch']"
      ],
      "metadata": {
        "execution": {
          "iopub.status.busy": "2024-06-14T21:13:03.996644Z",
          "iopub.execute_input": "2024-06-14T21:13:03.997077Z",
          "iopub.status.idle": "2024-06-14T21:13:04.00851Z",
          "shell.execute_reply.started": "2024-06-14T21:13:03.997019Z",
          "shell.execute_reply": "2024-06-14T21:13:04.00709Z"
        },
        "trusted": true,
        "id": "KtXrJ-e2qlJR"
      },
      "execution_count": null,
      "outputs": []
    },
    {
      "cell_type": "code",
      "source": [
        "y = data_encoded['Survived']\n",
        "X = data_encoded.drop(columns=['Survived'])  # Survived dışındaki tüm sütunlar\n",
        "X.head()"
      ],
      "metadata": {
        "execution": {
          "iopub.status.busy": "2024-06-14T21:13:17.471151Z",
          "iopub.execute_input": "2024-06-14T21:13:17.472329Z",
          "iopub.status.idle": "2024-06-14T21:13:17.501448Z",
          "shell.execute_reply.started": "2024-06-14T21:13:17.472286Z",
          "shell.execute_reply": "2024-06-14T21:13:17.500195Z"
        },
        "trusted": true,
        "id": "2_ANL6KlqlJT"
      },
      "execution_count": null,
      "outputs": []
    },
    {
      "cell_type": "code",
      "source": [
        "y"
      ],
      "metadata": {
        "execution": {
          "iopub.status.busy": "2024-06-14T21:13:30.144125Z",
          "iopub.execute_input": "2024-06-14T21:13:30.145263Z",
          "iopub.status.idle": "2024-06-14T21:13:30.154638Z",
          "shell.execute_reply.started": "2024-06-14T21:13:30.145222Z",
          "shell.execute_reply": "2024-06-14T21:13:30.153447Z"
        },
        "trusted": true,
        "id": "UnjQ5nu1qlJV"
      },
      "execution_count": null,
      "outputs": []
    },
    {
      "cell_type": "code",
      "source": [
        "#Train ve testi aşağıdaki gibi ayırıyoruz\n",
        "X_train=X[:891] #Train veri setinde ilk 891\n",
        "X_test=X[891:]\n",
        "y_train=y[:891]\n",
        "y_test=y[891:]"
      ],
      "metadata": {
        "execution": {
          "iopub.status.busy": "2024-06-14T21:13:42.530293Z",
          "iopub.execute_input": "2024-06-14T21:13:42.530693Z",
          "iopub.status.idle": "2024-06-14T21:13:42.537318Z",
          "shell.execute_reply.started": "2024-06-14T21:13:42.530663Z",
          "shell.execute_reply": "2024-06-14T21:13:42.535888Z"
        },
        "trusted": true,
        "id": "l-6ioz_nqlJW"
      },
      "execution_count": null,
      "outputs": []
    },
    {
      "cell_type": "code",
      "source": [
        "from sklearn.ensemble import RandomForestRegressor, GradientBoostingRegressor\n",
        "from sklearn.tree import DecisionTreeRegressor\n",
        "\n",
        "\n",
        "# RandomForestRegressor modelini oluşturma ve eğitme\n",
        "rf_model = RandomForestRegressor()\n",
        "rf_model.fit(X_train, y_train)\n",
        "\n",
        "# DecisionTreeRegressor modelini oluşturma ve eğitme\n",
        "dt_model = DecisionTreeRegressor()\n",
        "dt_model.fit(X_train, y_train)\n",
        "\n",
        "# GradientBoostingRegressor modelini oluşturma ve eğitme\n",
        "gb_model = GradientBoostingRegressor()\n",
        "gb_model.fit(X_train, y_train)\n",
        "\n",
        "# Özellik önemlerini belirleme\n",
        "rf_feature_importances = pd.Series(rf_model.feature_importances_, index=X.columns).sort_values(ascending=True)\n",
        "dt_feature_importances = pd.Series(dt_model.feature_importances_, index=X.columns).sort_values(ascending=True)\n",
        "gb_feature_importances = pd.Series(gb_model.feature_importances_, index=X.columns).sort_values(ascending=True)\n",
        "\n",
        "# Grafik yüksekliğini ayarlama\n",
        "num_features = len(rf_feature_importances)\n",
        "fig_height = max(6, num_features * 0.5)\n",
        "\n",
        "# Grafik oluşturma\n",
        "plt.figure(figsize=(12, fig_height))\n",
        "\n",
        "# RandomForestRegressor özellik önemleri\n",
        "plt.subplot(3, 1, 1)\n",
        "rf_feature_importances.plot(kind='barh')\n",
        "plt.title('Random Forest Özellik Önem Düzeyleri')\n",
        "plt.xlabel('Önem Düzeyi')\n",
        "plt.ylabel('Özellikler')\n",
        "\n",
        "# DecisionTreeRegressor özellik önemleri\n",
        "plt.subplot(3, 1, 2)\n",
        "dt_feature_importances.plot(kind='barh')\n",
        "plt.title('Decision Tree Özellik Önem Düzeyleri')\n",
        "plt.xlabel('Önem Düzeyi')\n",
        "plt.ylabel('Özellikler')\n",
        "\n",
        "# GradientBoostingRegressor özellik önemleri\n",
        "plt.subplot(3, 1, 3)\n",
        "gb_feature_importances.plot(kind='barh')\n",
        "plt.title('Gradient Boosting Özellik Önem Düzeyleri')\n",
        "plt.xlabel('Önem Düzeyi')\n",
        "plt.ylabel('Özellikler')\n",
        "\n",
        "# Barların üstüne değerlerini yazma\n",
        "for ax in plt.gcf().axes:\n",
        "    for container in ax.containers:\n",
        "        ax.bar_label(container, label_type='edge')\n",
        "\n",
        "plt.tight_layout()\n",
        "\n",
        "\n",
        "# Excel'e yazdırma\n",
        "feature_importances_df = pd.DataFrame({\n",
        "    'features': X.columns,\n",
        "    'rf_importance': rf_feature_importances[X.columns].values,\n",
        "    'dt_importance': dt_feature_importances[X.columns].values,\n",
        "    'gb_importance': gb_feature_importances[X.columns].values\n",
        "})\n",
        "\n",
        "\n",
        "\n",
        "plt.show()\n",
        "\n",
        "print(feature_importances_df)"
      ],
      "metadata": {
        "execution": {
          "iopub.status.busy": "2024-06-14T21:14:02.052633Z",
          "iopub.execute_input": "2024-06-14T21:14:02.053099Z",
          "iopub.status.idle": "2024-06-14T21:14:05.030474Z",
          "shell.execute_reply.started": "2024-06-14T21:14:02.053061Z",
          "shell.execute_reply": "2024-06-14T21:14:05.025761Z"
        },
        "trusted": true,
        "id": "i6OdpcQ5qlJX"
      },
      "execution_count": null,
      "outputs": []
    },
    {
      "cell_type": "markdown",
      "source": [
        "libraries"
      ],
      "metadata": {
        "id": "Wp38vl5BqlJY"
      }
    },
    {
      "cell_type": "code",
      "source": [
        "from sklearn.metrics import mean_squared_error, r2_score, mean_absolute_error,  accuracy_score, confusion_matrix\n",
        "from sklearn.model_selection import cross_val_score, GridSearchCV\n",
        "from sklearn.metrics import accuracy_score, precision_score, recall_score, f1_score\n",
        "from sklearn.model_selection import train_test_split\n",
        "\n",
        "from sklearn.linear_model import LogisticRegression\n",
        "from sklearn.naive_bayes import GaussianNB, BernoulliNB, MultinomialNB\n",
        "from sklearn.svm import SVC\n",
        "from sklearn.neighbors import KNeighborsClassifier\n",
        "from sklearn.tree import DecisionTreeClassifier\n",
        "from sklearn.ensemble import RandomForestClassifier\n",
        "from xgboost import XGBClassifier\n",
        "from sklearn.ensemble import GradientBoostingClassifier\n",
        "from sklearn.ensemble import AdaBoostClassifier\n",
        "from sklearn.ensemble import ExtraTreesClassifier\n",
        "from sklearn.ensemble import BaggingClassifier\n",
        "from sklearn.discriminant_analysis import QuadraticDiscriminantAnalysis\n",
        "from sklearn.discriminant_analysis import LinearDiscriminantAnalysis\n",
        "from lightgbm import LGBMClassifier\n",
        "from catboost import CatBoostClassifier\n",
        "from sklearn.neural_network import MLPClassifier\n",
        "import warnings\n",
        "\n",
        "from sklearn.exceptions import ConvergenceWarning"
      ],
      "metadata": {
        "execution": {
          "iopub.status.busy": "2024-06-14T21:14:37.366977Z",
          "iopub.execute_input": "2024-06-14T21:14:37.36753Z",
          "iopub.status.idle": "2024-06-14T21:14:39.071885Z",
          "shell.execute_reply.started": "2024-06-14T21:14:37.367494Z",
          "shell.execute_reply": "2024-06-14T21:14:39.070354Z"
        },
        "trusted": true,
        "id": "LUcUPckPqlJb"
      },
      "execution_count": null,
      "outputs": []
    },
    {
      "cell_type": "code",
      "source": [
        "# Ignore ConvergenceWarnings\n",
        "warnings.filterwarnings(action='ignore', category=ConvergenceWarning)\n",
        "\n",
        "\n",
        "X_train, X_test, y_train, y_test = train_test_split(X_train, y_train, test_size=0.3, random_state=42)\n",
        "\n",
        "\n",
        "\n",
        "\n",
        "# Model listesi\n",
        "models = [\n",
        "    ('LogisticRegression', LogisticRegression()),\n",
        "    ('DecisionTree', DecisionTreeClassifier()),\n",
        "    ('RandomForest', RandomForestClassifier()),\n",
        "    ('GradientBoosting', GradientBoostingClassifier()),\n",
        "    ('AdaBoost', AdaBoostClassifier()),\n",
        "    ('ExtraTrees', ExtraTreesClassifier()),\n",
        "    ('Bagging', BaggingClassifier()),\n",
        "    ('KNeighbors', KNeighborsClassifier()),\n",
        "    ('QDA', QuadraticDiscriminantAnalysis()),\n",
        "    ('LDA', LinearDiscriminantAnalysis()),\n",
        "    ('XGB', XGBClassifier(use_label_encoder=False, eval_metric='logloss')),\n",
        "    ('LGBM', LGBMClassifier(verbosity=-1)),\n",
        "    ('CatBoost', CatBoostClassifier(silent=True)),\n",
        "    ('GaussianNB', GaussianNB()),\n",
        "    ('BernoulliNB', BernoulliNB()),\n",
        "    ('MultinomialNB', MultinomialNB()),\n",
        "    ('MLP', MLPClassifier(max_iter=300))\n",
        "]\n",
        "\n",
        "# Hiperparametreler için grid\n",
        "param_grids = {\n",
        "    'LogisticRegression': {'C': [0.1, 1, 10]},\n",
        "    'DecisionTree': {'max_depth': [3, 5, 7]},\n",
        "    'RandomForest': {'n_estimators': [50, 100, 200], 'max_depth': [3, 5, 7]},\n",
        "    'GradientBoosting': {'n_estimators': [50, 100, 200], 'learning_rate': [0.01, 0.1, 0.2]},\n",
        "    'AdaBoost': {'n_estimators': [50, 100, 200]},\n",
        "    'ExtraTrees': {'n_estimators': [50, 100, 200], 'max_depth': [3, 5, 7]},\n",
        "    'Bagging': {'n_estimators': [50, 100, 200]},\n",
        "    'KNeighbors': {'n_neighbors': [3, 5, 7]},\n",
        "    'QDA': {},\n",
        "    'LDA': {},\n",
        "    'XGB': {'n_estimators': [50, 100, 200], 'learning_rate': [0.01, 0.1, 0.2]},\n",
        "    'LGBM': {'n_estimators': [50, 100, 200], 'learning_rate': [0.01, 0.1, 0.2]},\n",
        "    'CatBoost': {'iterations': [50, 100, 200], 'learning_rate': [0.01, 0.1, 0.2]},\n",
        "    'GaussianNB': {},\n",
        "    'BernoulliNB': {'alpha': [0.01, 0.1, 1]},\n",
        "    'MultinomialNB': {'alpha': [0.01, 0.1, 1]},\n",
        "    'MLP': {'hidden_layer_sizes': [(100,), (100, 50), (50, 50)], 'activation': ['relu', 'tanh']}\n",
        "}\n",
        "\n",
        "# Modellerin eğitimi ve değerlendirilmesi\n",
        "results = []\n",
        "for name, model in models:\n",
        "    print(f\"Training {name}\")\n",
        "    param_grid = param_grids.get(name, {})\n",
        "    grid_search = GridSearchCV(model, param_grid, cv=5, scoring='accuracy')\n",
        "    grid_search.fit(X_train, y_train)\n",
        "\n",
        "    best_model = grid_search.best_estimator_\n",
        "    y_pred = best_model.predict(X_test)\n",
        "\n",
        "    accuracy = accuracy_score(y_test, y_pred)\n",
        "    precision = precision_score(y_test, y_pred, average='weighted')\n",
        "    recall = recall_score(y_test, y_pred, average='weighted')\n",
        "    f1 = f1_score(y_test, y_pred, average='weighted')\n",
        "    cm = confusion_matrix(y_test, y_pred)\n",
        "\n",
        "    results.append({\n",
        "        'Model': name,\n",
        "        'Best Params': grid_search.best_params_,\n",
        "        'Accuracy': accuracy,\n",
        "        'Precision': precision,\n",
        "        'Recall': recall,\n",
        "        'F1 Score': f1,\n",
        "        'Confusion Matrix': cm\n",
        "    })\n",
        "\n",
        "# Sonuçları yazdırma\n",
        "for result in results:\n",
        "    print(f\"Model: {result['Model']}\")\n",
        "    print(f\"Best Params: {result['Best Params']}\")\n",
        "    print(f\"Accuracy: {result['Accuracy']}\")\n",
        "    print(f\"Precision: {result['Precision']}\")\n",
        "    print(f\"Recall: {result['Recall']}\")\n",
        "    print(f\"F1 Score: {result['F1 Score']}\")\n",
        "    print(f\"Confusion Matrix:\\n{result['Confusion Matrix']}\")\n",
        "    print(\"\\n\")"
      ],
      "metadata": {
        "execution": {
          "iopub.status.busy": "2024-06-14T21:14:56.931994Z",
          "iopub.execute_input": "2024-06-14T21:14:56.933199Z",
          "iopub.status.idle": "2024-06-14T21:16:18.90116Z",
          "shell.execute_reply.started": "2024-06-14T21:14:56.933074Z",
          "shell.execute_reply": "2024-06-14T21:16:18.89954Z"
        },
        "trusted": true,
        "id": "jTuY9XtMqlJd"
      },
      "execution_count": null,
      "outputs": []
    },
    {
      "cell_type": "code",
      "source": [
        "#Train ve testi aşağıdaki gibi ayırıyoruz\n",
        "X_train=X[:891] #Train veri setinde ilk 891\n",
        "X_test=X[891:]\n",
        "y_train=y[:891]\n",
        "y_test=y[891:]"
      ],
      "metadata": {
        "execution": {
          "iopub.status.busy": "2024-06-14T21:16:33.405684Z",
          "iopub.execute_input": "2024-06-14T21:16:33.406129Z",
          "iopub.status.idle": "2024-06-14T21:16:33.413424Z",
          "shell.execute_reply.started": "2024-06-14T21:16:33.406095Z",
          "shell.execute_reply": "2024-06-14T21:16:33.412147Z"
        },
        "trusted": true,
        "id": "4idKqXiUqlJe"
      },
      "execution_count": null,
      "outputs": []
    },
    {
      "cell_type": "code",
      "source": [
        "XTC=ExtraTreesClassifier(max_depth=5, n_estimators=200)\n",
        "XTC.fit(X_train,y_train)# Testi kaggle üzerinden yapacağımız için artık veri setini bölmeden elimizdeki tüm veri setini gönderiyoruz.\n",
        "y_pred=XTC.predict(X_test)\n",
        "y_pred"
      ],
      "metadata": {
        "execution": {
          "iopub.status.busy": "2024-06-14T21:16:42.095863Z",
          "iopub.execute_input": "2024-06-14T21:16:42.09673Z",
          "iopub.status.idle": "2024-06-14T21:16:42.574371Z",
          "shell.execute_reply.started": "2024-06-14T21:16:42.096693Z",
          "shell.execute_reply": "2024-06-14T21:16:42.572893Z"
        },
        "trusted": true,
        "id": "qGE7rKyJqlJf"
      },
      "execution_count": null,
      "outputs": []
    },
    {
      "cell_type": "code",
      "source": [
        "submission = pd.DataFrame({'PassengerId': df_test.PassengerId, 'Survived': y_pred.astype(int)})\n",
        "submission"
      ],
      "metadata": {
        "execution": {
          "iopub.status.busy": "2024-06-14T21:16:53.116187Z",
          "iopub.execute_input": "2024-06-14T21:16:53.116603Z",
          "iopub.status.idle": "2024-06-14T21:16:53.130861Z",
          "shell.execute_reply.started": "2024-06-14T21:16:53.116572Z",
          "shell.execute_reply": "2024-06-14T21:16:53.129447Z"
        },
        "trusted": true,
        "id": "mZ5vQ-yFqlJg"
      },
      "execution_count": null,
      "outputs": []
    },
    {
      "cell_type": "code",
      "source": [
        "submission.to_csv('submission.csv', index=False) #data frame i csv dosyası oalrak kaydediyor"
      ],
      "metadata": {
        "execution": {
          "iopub.status.busy": "2024-06-14T21:17:21.796884Z",
          "iopub.execute_input": "2024-06-14T21:17:21.797408Z",
          "iopub.status.idle": "2024-06-14T21:17:21.805971Z",
          "shell.execute_reply.started": "2024-06-14T21:17:21.797368Z",
          "shell.execute_reply": "2024-06-14T21:17:21.804794Z"
        },
        "trusted": true,
        "id": "-nisYjptqlJh"
      },
      "execution_count": null,
      "outputs": []
    },
    {
      "cell_type": "code",
      "source": [],
      "metadata": {
        "id": "8wpaf-oPqlJi"
      },
      "execution_count": null,
      "outputs": []
    }
  ]
}